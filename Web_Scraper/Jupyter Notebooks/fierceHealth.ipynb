{
 "cells": [
  {
   "cell_type": "code",
   "execution_count": 1,
   "metadata": {},
   "outputs": [],
   "source": [
    "import requests\n",
    "from bs4 import BeautifulSoup\n",
    "import pandas as pd\n",
    "import numpy as np\n",
    "import json"
   ]
  },
  {
   "cell_type": "code",
   "execution_count": 2,
   "metadata": {},
   "outputs": [],
   "source": [
    "# Get Fierce Health main page\n",
    "HEADERS = {'User-Agent': 'Mozilla/5.0 (iPad; CPU OS 12_2 like Mac OS X) AppleWebKit/605.1.15 (KHTML, like Gecko) Mobile/15E148'}\n",
    "url = \"https://www.fiercehealthcare.com\"\n",
    "page = requests.get(url, headers=HEADERS)\n",
    "\n",
    "# Check request status\n",
    "status = page.status_code\n",
    "if status == 403:\n",
    "    raise ValueError(\"Exception thrown as url get request returned 403 error. No access\")\n",
    "\n",
    "# Open list of keywords\n",
    "with open('keywords.json') as file:\n",
    "     data = json.load(file)"
   ]
  },
  {
   "cell_type": "code",
   "execution_count": 3,
   "metadata": {},
   "outputs": [],
   "source": [
    "# Parse html code\n",
    "# We'll save in coverpage the cover page content\n",
    "fierceHealth = page.content\n",
    "\n",
    "# Soup creation\n",
    "soup1 = BeautifulSoup(fierceHealth, 'html5lib') # using html parser to read through site data"
   ]
  },
  {
   "cell_type": "code",
   "execution_count": 4,
   "metadata": {},
   "outputs": [],
   "source": [
    "# Scrape html from site\n",
    "## Source 3 - Hippa Journal ##\n",
    "# News identification for Source 1\n",
    "coverpage_news = soup1.find_all('div', id='page-wrapper')       # Select right column with latest news\n",
    "if not coverpage_news:\n",
    "    # Throws exception if soup cannot find the main 'container' on the site\n",
    "    # Only returns exception if the length of coverpage news is 0 ... should be 1 and not 0\n",
    "    raise ValueError(\"Error in returning html data from main page. Length of array is 0\")\n",
    "\n",
    "# Accesses direct list of srticles from the page wrapper html id\n",
    "# Using only one find all instead of 15    \n",
    "articles = coverpage_news[0].contents[1].contents[3].contents[1].contents[1].contents[1].contents[1].contents[3].contents[1].contents[7].contents[1].contents[3].contents[1].contents[1].contents[3].contents[1].contents[3].contents[1].find_all('div', class_= 'col-md-6 col-lg-12 mb-5 mb-lg-4 pl-lg-5 d-md-flex flex-md-column content-list-wrapper')"
   ]
  },
  {
   "cell_type": "code",
   "execution_count": 5,
   "metadata": {},
   "outputs": [],
   "source": [
    "# Establish the number of articles\n",
    "num_of_articles = len(articles)\n",
    "if not num_of_articles:\n",
    "    # Throws exception if soup cannot find articles in find_all\n",
    "    # Only returns exception if the length of articles is 0 ... should be more than 0\n",
    "    raise ValueError(\"Error in returning html data. Length of array is 0\")"
   ]
  },
  {
   "cell_type": "code",
   "execution_count": 6,
   "metadata": {},
   "outputs": [],
   "source": [
    "Index = []\n",
    "list_links = []\n",
    "list_titles = []\n",
    "Keyword = []\n",
    "count = 0\n",
    "added_articles = set()\n",
    "\n",
    "# for each article in list of scraped articles \n",
    "for n in np.arange(0, num_of_articles):\n",
    "    \n",
    "    # Getting the link of the article\n",
    "    link = articles[n].find('a')['href']\n",
    "    \n",
    "    # Getting the title\n",
    "    title = articles[n].get_text()\n",
    "    title = title.replace('\\n', '') # Remove \\n\n",
    "    title = title.replace('\\t', '') # Remove \\t\n",
    "    title = \" \".join(title.split()) # Remove spaces in front and back of string\n",
    "    \n",
    "    found_keyword = False # initialize found_keyword flag\n",
    "    \n",
    "# https://www.geeksforgeeks.org/read-json-file-using-python/\n",
    "# Filter by Keyword inside \"data\"\n",
    "    for entry in data:\n",
    "        if entry['Keyword'] in title:\n",
    "            Keyword.append(entry['Keyword'])  # Append Found Keyword\n",
    "            added_articles.add(title)\n",
    "            found_keyword = True # set found_keyword flag to True\n",
    "            break\n",
    "    \n",
    "    # append 'none' if no keyword was found\n",
    "    if not found_keyword:\n",
    "        Keyword.append('none')\n",
    "    \n",
    "    # add article information to lists\n",
    "    list_links.append(url + link)\n",
    "    list_titles.append(title)\n",
    "    Index.append(count)\n",
    "    count += 1 "
   ]
  },
  {
   "cell_type": "code",
   "execution_count": 7,
   "metadata": {},
   "outputs": [
    {
     "data": {
      "text/html": [
       "<div>\n",
       "<style scoped>\n",
       "    .dataframe tbody tr th:only-of-type {\n",
       "        vertical-align: middle;\n",
       "    }\n",
       "\n",
       "    .dataframe tbody tr th {\n",
       "        vertical-align: top;\n",
       "    }\n",
       "\n",
       "    .dataframe thead th {\n",
       "        text-align: right;\n",
       "    }\n",
       "</style>\n",
       "<table border=\"1\" class=\"dataframe\">\n",
       "  <thead>\n",
       "    <tr style=\"text-align: right;\">\n",
       "      <th></th>\n",
       "      <th>ind</th>\n",
       "      <th>keyword</th>\n",
       "      <th>Article Title</th>\n",
       "      <th>Article Link</th>\n",
       "    </tr>\n",
       "  </thead>\n",
       "  <tbody>\n",
       "    <tr>\n",
       "      <th>0</th>\n",
       "      <td>0</td>\n",
       "      <td>none</td>\n",
       "      <td>Bill aimed at virtual mental health in Medicar...</td>\n",
       "      <td>https://www.fiercehealthcare.com/regulatory/le...</td>\n",
       "    </tr>\n",
       "    <tr>\n",
       "      <th>1</th>\n",
       "      <td>1</td>\n",
       "      <td>none</td>\n",
       "      <td>SponsoredAgitation: An Unspoken Aspect of Alzh...</td>\n",
       "      <td>https://www.fiercehealthcare.com/sponsored/uns...</td>\n",
       "    </tr>\n",
       "    <tr>\n",
       "      <th>2</th>\n",
       "      <td>2</td>\n",
       "      <td>none</td>\n",
       "      <td>Regulatory filing sheds new light on Kaiser-Ge...</td>\n",
       "      <td>https://www.fiercehealthcare.com/providers/kai...</td>\n",
       "    </tr>\n",
       "    <tr>\n",
       "      <th>3</th>\n",
       "      <td>3</td>\n",
       "      <td>none</td>\n",
       "      <td>SponsoredRevolutionizing Hospital Care through...</td>\n",
       "      <td>https://www.fiercehealthcare.com/sponsored/rev...</td>\n",
       "    </tr>\n",
       "    <tr>\n",
       "      <th>4</th>\n",
       "      <td>4</td>\n",
       "      <td>none</td>\n",
       "      <td>Federal appeals court grants stay in ACA preve...</td>\n",
       "      <td>https://www.fiercehealthcare.com/regulatory/fe...</td>\n",
       "    </tr>\n",
       "  </tbody>\n",
       "</table>\n",
       "</div>"
      ],
      "text/plain": [
       "   ind keyword                                      Article Title  \\\n",
       "0    0    none  Bill aimed at virtual mental health in Medicar...   \n",
       "1    1    none  SponsoredAgitation: An Unspoken Aspect of Alzh...   \n",
       "2    2    none  Regulatory filing sheds new light on Kaiser-Ge...   \n",
       "3    3    none  SponsoredRevolutionizing Hospital Care through...   \n",
       "4    4    none  Federal appeals court grants stay in ACA preve...   \n",
       "\n",
       "                                        Article Link  \n",
       "0  https://www.fiercehealthcare.com/regulatory/le...  \n",
       "1  https://www.fiercehealthcare.com/sponsored/uns...  \n",
       "2  https://www.fiercehealthcare.com/providers/kai...  \n",
       "3  https://www.fiercehealthcare.com/sponsored/rev...  \n",
       "4  https://www.fiercehealthcare.com/regulatory/fe...  "
      ]
     },
     "execution_count": 7,
     "metadata": {},
     "output_type": "execute_result"
    }
   ],
   "source": [
    " # df_show_info\n",
    "df_show_info = pd.DataFrame(\n",
    "    {'ind': Index,\n",
    "     'keyword': Keyword,\n",
    "     'Article Title': list_titles,\n",
    "     'Article Link': list_links})\n",
    "\n",
    "df_show_info"
   ]
  }
 ],
 "metadata": {
  "kernelspec": {
   "display_name": "Python 3",
   "language": "python",
   "name": "python3"
  },
  "language_info": {
   "codemirror_mode": {
    "name": "ipython",
    "version": 3
   },
   "file_extension": ".py",
   "mimetype": "text/x-python",
   "name": "python",
   "nbconvert_exporter": "python",
   "pygments_lexer": "ipython3",
   "version": "3.11.2"
  },
  "orig_nbformat": 4
 },
 "nbformat": 4,
 "nbformat_minor": 2
}
