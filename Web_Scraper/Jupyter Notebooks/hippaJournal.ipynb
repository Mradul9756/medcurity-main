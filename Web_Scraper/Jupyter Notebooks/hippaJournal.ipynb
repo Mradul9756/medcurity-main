{
 "cells": [
  {
   "cell_type": "code",
   "execution_count": 19,
   "metadata": {},
   "outputs": [],
   "source": [
    "import requests\n",
    "from bs4 import BeautifulSoup\n",
    "import pandas as pd\n",
    "import numpy as np\n",
    "import json"
   ]
  },
  {
   "cell_type": "code",
   "execution_count": 20,
   "metadata": {},
   "outputs": [],
   "source": [
    "# Get Hippa Journal URL\n",
    "url = \"https://www.hipaajournal.com\"\n",
    "page = requests.get(url)\n",
    "\n",
    "# Open list of keywords\n",
    "with open('keywords.json') as file:\n",
    "     data = json.load(file)\n",
    "\n",
    "# Check request status\n",
    "status = page.status_code\n",
    "if status == 403:\n",
    "    raise ValueError(\"Exception thrown as url get request returned 403 error. No access\")"
   ]
  },
  {
   "cell_type": "code",
   "execution_count": 21,
   "metadata": {},
   "outputs": [],
   "source": [
    "# Parse html code\n",
    "# We'll save in hippajournal the cover page content\n",
    "hippaJournal = page.content\n",
    "\n",
    "# Soup creation\n",
    "soup1 = BeautifulSoup(hippaJournal, 'html5lib') # using html parser to read through site data"
   ]
  },
  {
   "cell_type": "code",
   "execution_count": 22,
   "metadata": {},
   "outputs": [],
   "source": [
    "# Scrape html from site\n",
    "## Source 3 - Hippa Journal ##\n",
    "# News identification for Source 1\n",
    "coverpage_news = soup1.find_all('div', class_='latest-news-column latest-news-column-1')       # Select right column with latest news\n",
    "if not coverpage_news:\n",
    "    # Throws exception if soup cannot find the main 'container' on the site\n",
    "    # Only returns exception if the length of coverpage news is 0 ... should be 1 and not 0\n",
    "    raise ValueError(\"Error in returning html data from main page. Length of array is 0\")\n",
    "\n",
    "# Reducing number of find_all function calls\n",
    "# Path found from developer tools on website and debugger info inside coverpage_news   \n",
    "articles = coverpage_news[0].contents[1].find_all('h3', class_= 'wp-show-posts-entry-title')  # Gets article and places in list of articles"
   ]
  },
  {
   "cell_type": "code",
   "execution_count": 23,
   "metadata": {},
   "outputs": [],
   "source": [
    "# Establish the number of articles\n",
    "num_of_articles = len(articles)\n",
    "if not num_of_articles:\n",
    "    # Throws exception if soup cannot find articles in find_all\n",
    "    # Only returns exception if the length of articles is 0 ... should be more than 0\n",
    "    raise ValueError(\"Error in returning html data. Length of array is 0\")"
   ]
  },
  {
   "cell_type": "code",
   "execution_count": 24,
   "metadata": {},
   "outputs": [],
   "source": [
    "Index = []\n",
    "list_links = []\n",
    "list_titles = []\n",
    "Keyword = []\n",
    "count = 0\n",
    "added_articles = set()\n",
    "# for each article in list of scraped articles \n",
    "for n in np.arange(0, num_of_articles):\n",
    "    \n",
    "    # Getting the link of the article\n",
    "    link = articles[n].find('a')['href']\n",
    "    \n",
    "    # Getting the title\n",
    "    title = articles[n].get_text()\n",
    "    title = title.replace('\\n', '') # Remove \\n\n",
    "    title = title.replace('\\t', '') # Remove \\t\n",
    "    title = \" \".join(title.split()) # Remove spaces in front and back of string\n",
    "    \n",
    "    found_keyword = False # initialize found_keyword flag\n",
    "    \n",
    "# https://www.geeksforgeeks.org/read-json-file-using-python/\n",
    "# Filter by Keyword inside \"data\"\n",
    "    for entry in data:\n",
    "        if entry['Keyword'] in title:\n",
    "            Keyword.append(entry['Keyword'])  # Append Found Keyword\n",
    "            added_articles.add(title)\n",
    "            found_keyword = True # set found_keyword flag to True\n",
    "            break\n",
    "    \n",
    "    # append 'none' if no keyword was found\n",
    "    if not found_keyword:\n",
    "        Keyword.append('none')\n",
    "    \n",
    "    # add article information to lists\n",
    "    list_links.append(link)\n",
    "    list_titles.append(title)\n",
    "    Index.append(count)\n",
    "    count += 1"
   ]
  },
  {
   "cell_type": "code",
   "execution_count": 25,
   "metadata": {},
   "outputs": [
    {
     "data": {
      "text/html": [
       "<div>\n",
       "<style scoped>\n",
       "    .dataframe tbody tr th:only-of-type {\n",
       "        vertical-align: middle;\n",
       "    }\n",
       "\n",
       "    .dataframe tbody tr th {\n",
       "        vertical-align: top;\n",
       "    }\n",
       "\n",
       "    .dataframe thead th {\n",
       "        text-align: right;\n",
       "    }\n",
       "</style>\n",
       "<table border=\"1\" class=\"dataframe\">\n",
       "  <thead>\n",
       "    <tr style=\"text-align: right;\">\n",
       "      <th></th>\n",
       "      <th>ind</th>\n",
       "      <th>keyword</th>\n",
       "      <th>Article Title</th>\n",
       "      <th>Article Link</th>\n",
       "    </tr>\n",
       "  </thead>\n",
       "  <tbody>\n",
       "    <tr>\n",
       "      <th>0</th>\n",
       "      <td>0</td>\n",
       "      <td>OCR</td>\n",
       "      <td>OCR Fines Arkansas Business Associate $350,000...</td>\n",
       "      <td>https://www.hipaajournal.com/ocr-fines-arkansa...</td>\n",
       "    </tr>\n",
       "    <tr>\n",
       "      <th>1</th>\n",
       "      <td>1</td>\n",
       "      <td>none</td>\n",
       "      <td>What is Considered PHI Under HIPAA?</td>\n",
       "      <td>https://www.hipaajournal.com/what-is-considere...</td>\n",
       "    </tr>\n",
       "    <tr>\n",
       "      <th>2</th>\n",
       "      <td>2</td>\n",
       "      <td>none</td>\n",
       "      <td>Is Proton Mail HIPAA Compliant?</td>\n",
       "      <td>https://www.hipaajournal.com/is-proton-mail-hi...</td>\n",
       "    </tr>\n",
       "    <tr>\n",
       "      <th>3</th>\n",
       "      <td>3</td>\n",
       "      <td>none</td>\n",
       "      <td>HIPAA Continuity of Care</td>\n",
       "      <td>https://www.hipaajournal.com/hipaa-continuity-...</td>\n",
       "    </tr>\n",
       "    <tr>\n",
       "      <th>4</th>\n",
       "      <td>4</td>\n",
       "      <td>Breach</td>\n",
       "      <td>Maxim HealthCare Services Proposes Settlement ...</td>\n",
       "      <td>https://www.hipaajournal.com/maxim-healthcare-...</td>\n",
       "    </tr>\n",
       "  </tbody>\n",
       "</table>\n",
       "</div>"
      ],
      "text/plain": [
       "   ind keyword                                      Article Title  \\\n",
       "0    0     OCR  OCR Fines Arkansas Business Associate $350,000...   \n",
       "1    1    none                What is Considered PHI Under HIPAA?   \n",
       "2    2    none                    Is Proton Mail HIPAA Compliant?   \n",
       "3    3    none                           HIPAA Continuity of Care   \n",
       "4    4  Breach  Maxim HealthCare Services Proposes Settlement ...   \n",
       "\n",
       "                                        Article Link  \n",
       "0  https://www.hipaajournal.com/ocr-fines-arkansa...  \n",
       "1  https://www.hipaajournal.com/what-is-considere...  \n",
       "2  https://www.hipaajournal.com/is-proton-mail-hi...  \n",
       "3  https://www.hipaajournal.com/hipaa-continuity-...  \n",
       "4  https://www.hipaajournal.com/maxim-healthcare-...  "
      ]
     },
     "execution_count": 25,
     "metadata": {},
     "output_type": "execute_result"
    }
   ],
   "source": [
    " # df_show_info\n",
    "df_show_info = pd.DataFrame(\n",
    "    {'ind': Index,\n",
    "     'keyword': Keyword,\n",
    "     'Article Title': list_titles,\n",
    "     'Article Link': list_links})\n",
    "\n",
    "df_show_info"
   ]
  }
 ],
 "metadata": {
  "kernelspec": {
   "display_name": "Python 3",
   "language": "python",
   "name": "python3"
  },
  "language_info": {
   "codemirror_mode": {
    "name": "ipython",
    "version": 3
   },
   "file_extension": ".py",
   "mimetype": "text/x-python",
   "name": "python",
   "nbconvert_exporter": "python",
   "pygments_lexer": "ipython3",
   "version": "3.11.2"
  },
  "orig_nbformat": 4
 },
 "nbformat": 4,
 "nbformat_minor": 2
}
