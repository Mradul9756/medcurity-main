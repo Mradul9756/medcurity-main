{
 "cells": [
  {
   "cell_type": "code",
   "execution_count": 8,
   "metadata": {},
   "outputs": [],
   "source": [
    "import requests\n",
    "from bs4 import BeautifulSoup\n",
    "import pandas as pd\n",
    "import numpy as np\n",
    "import json"
   ]
  },
  {
   "cell_type": "code",
   "execution_count": 9,
   "metadata": {},
   "outputs": [],
   "source": [
    "# Get Gov Info URL\n",
    "url = \"https://www.govinfosecurity.com\"\n",
    "page = requests.get(url)\n",
    "\n",
    "# Check request status\n",
    "status = page.status_code\n",
    "if status == 403:\n",
    "    raise ValueError(\"Exception thrown as url get request returned 403 error. No access\")\n",
    "\n",
    "# Open list of keywords\n",
    "with open('keywords.json') as file:\n",
    "     data = json.load(file)"
   ]
  },
  {
   "cell_type": "code",
   "execution_count": 10,
   "metadata": {},
   "outputs": [],
   "source": [
    "# Parse html code\n",
    "# We'll save in coverpage the cover page content\n",
    "govInfo = page.content\n",
    "\n",
    "# Soup creation\n",
    "soup1 = BeautifulSoup(govInfo, 'html5lib') # using html parser to read through site data"
   ]
  },
  {
   "cell_type": "code",
   "execution_count": 11,
   "metadata": {},
   "outputs": [],
   "source": [
    "# Scrape html from site\n",
    "# Source 3 - Government Info Security \n",
    "# News identification for Source 3\n",
    "coverpage_news = soup1.find_all('div', id='section-row-top')       # Select Lower column with latest news\n",
    "if not coverpage_news:\n",
    "    # Throws exception if soup cannot find the main 'container' on the site\n",
    "    # Only returns exception if the length of coverpage news is 0 ... should be 1 and not 0\n",
    "    raise ValueError(\"Error in returning html data from main page. Length of array is 0\")\n",
    "\n",
    "# Reducing number of find_all function calls\n",
    "# Path found from developer tools on website and debugger info inside coverpage_news\n",
    "articles = coverpage_news[0].contents[5].contents[1].find_all('article', class_= 'excerpt')         # Gets article and places in list of articles\n"
   ]
  },
  {
   "cell_type": "code",
   "execution_count": 12,
   "metadata": {},
   "outputs": [],
   "source": [
    "# Establish the number of articles\n",
    "num_of_articles = len(articles)\n",
    "if not num_of_articles:\n",
    "    # Throws exception if soup cannot find articles in find_all\n",
    "    # Only returns exception if the length of articles is 0 ... should be more than 0\n",
    "    raise ValueError(\"Error in returning html data. Length of array is 0\")"
   ]
  },
  {
   "cell_type": "code",
   "execution_count": 13,
   "metadata": {},
   "outputs": [],
   "source": [
    "Index = []\n",
    "list_links = []\n",
    "list_titles = []\n",
    "Keyword = []\n",
    "count = 0\n",
    "added_articles = set()\n",
    "\n",
    "# for each article in list of scraped articles \n",
    "for n in np.arange(0, num_of_articles):\n",
    "    \n",
    "    # Getting the link of the article\n",
    "    link = articles[n].find('a')['href']\n",
    "    \n",
    "    # Getting the title\n",
    "    title = articles[n].get_text()\n",
    "    title = title.replace('\\n', '') # Remove \\n\n",
    "    title = title.replace('\\t', '') # Remove \\t\n",
    "    title = \" \".join(title.split()) # Remove spaces in front and back of string\n",
    "    \n",
    "    found_keyword = False # initialize found_keyword flag\n",
    "    \n",
    "# https://www.geeksforgeeks.org/read-json-file-using-python/\n",
    "# Filter by Keyword inside \"data\"\n",
    "    for entry in data:\n",
    "        if entry['Keyword'] in title:\n",
    "            Keyword.append(entry['Keyword'])  # Append Found Keyword\n",
    "            added_articles.add(title)\n",
    "            found_keyword = True # set found_keyword flag to True\n",
    "            break\n",
    "    \n",
    "    # append 'none' if no keyword was found\n",
    "    if not found_keyword:\n",
    "        Keyword.append('none')\n",
    "    \n",
    "    # add article information to lists\n",
    "    list_links.append(link)\n",
    "    list_titles.append(title)\n",
    "    Index.append(count)\n",
    "    count += 1 "
   ]
  },
  {
   "cell_type": "code",
   "execution_count": 14,
   "metadata": {},
   "outputs": [
    {
     "data": {
      "text/html": [
       "<div>\n",
       "<style scoped>\n",
       "    .dataframe tbody tr th:only-of-type {\n",
       "        vertical-align: middle;\n",
       "    }\n",
       "\n",
       "    .dataframe tbody tr th {\n",
       "        vertical-align: top;\n",
       "    }\n",
       "\n",
       "    .dataframe thead th {\n",
       "        text-align: right;\n",
       "    }\n",
       "</style>\n",
       "<table border=\"1\" class=\"dataframe\">\n",
       "  <thead>\n",
       "    <tr style=\"text-align: right;\">\n",
       "      <th></th>\n",
       "      <th>ind</th>\n",
       "      <th>keyword</th>\n",
       "      <th>Article Title</th>\n",
       "      <th>Article Link</th>\n",
       "    </tr>\n",
       "  </thead>\n",
       "  <tbody>\n",
       "    <tr>\n",
       "      <th>0</th>\n",
       "      <td>0</td>\n",
       "      <td>none</td>\n",
       "      <td>General Data Protection Regulation (GDPR) Euro...</td>\n",
       "      <td>https://www.govinfosecurity.com/european-parli...</td>\n",
       "    </tr>\n",
       "    <tr>\n",
       "      <th>1</th>\n",
       "      <td>1</td>\n",
       "      <td>Encryption</td>\n",
       "      <td>Encryption &amp; Key Management EU Attorneys Quest...</td>\n",
       "      <td>https://www.govinfosecurity.com/eu-attorneys-q...</td>\n",
       "    </tr>\n",
       "    <tr>\n",
       "      <th>2</th>\n",
       "      <td>2</td>\n",
       "      <td>none</td>\n",
       "      <td>General Data Protection Regulation (GDPR) UK P...</td>\n",
       "      <td>https://www.govinfosecurity.com/uk-parliament-...</td>\n",
       "    </tr>\n",
       "    <tr>\n",
       "      <th>3</th>\n",
       "      <td>3</td>\n",
       "      <td>none</td>\n",
       "      <td>Cyberwarfare / Nation-State Attacks PEGA Commi...</td>\n",
       "      <td>https://www.govinfosecurity.com/pega-committee...</td>\n",
       "    </tr>\n",
       "    <tr>\n",
       "      <th>4</th>\n",
       "      <td>4</td>\n",
       "      <td>none</td>\n",
       "      <td>Cyberwarfare / Nation-State Attacks Feds Disme...</td>\n",
       "      <td>https://www.govinfosecurity.com/feds-dismember...</td>\n",
       "    </tr>\n",
       "  </tbody>\n",
       "</table>\n",
       "</div>"
      ],
      "text/plain": [
       "   ind     keyword                                      Article Title  \\\n",
       "0    0        none  General Data Protection Regulation (GDPR) Euro...   \n",
       "1    1  Encryption  Encryption & Key Management EU Attorneys Quest...   \n",
       "2    2        none  General Data Protection Regulation (GDPR) UK P...   \n",
       "3    3        none  Cyberwarfare / Nation-State Attacks PEGA Commi...   \n",
       "4    4        none  Cyberwarfare / Nation-State Attacks Feds Disme...   \n",
       "\n",
       "                                        Article Link  \n",
       "0  https://www.govinfosecurity.com/european-parli...  \n",
       "1  https://www.govinfosecurity.com/eu-attorneys-q...  \n",
       "2  https://www.govinfosecurity.com/uk-parliament-...  \n",
       "3  https://www.govinfosecurity.com/pega-committee...  \n",
       "4  https://www.govinfosecurity.com/feds-dismember...  "
      ]
     },
     "execution_count": 14,
     "metadata": {},
     "output_type": "execute_result"
    }
   ],
   "source": [
    " # df_show_info\n",
    "df_show_info = pd.DataFrame(\n",
    "    {'ind': Index,\n",
    "     'keyword': Keyword,\n",
    "     'Article Title': list_titles,\n",
    "     'Article Link': list_links})\n",
    "\n",
    "df_show_info"
   ]
  }
 ],
 "metadata": {
  "kernelspec": {
   "display_name": "Python 3",
   "language": "python",
   "name": "python3"
  },
  "language_info": {
   "codemirror_mode": {
    "name": "ipython",
    "version": 3
   },
   "file_extension": ".py",
   "mimetype": "text/x-python",
   "name": "python",
   "nbconvert_exporter": "python",
   "pygments_lexer": "ipython3",
   "version": "3.11.2"
  },
  "orig_nbformat": 4
 },
 "nbformat": 4,
 "nbformat_minor": 2
}
