{
 "cells": [
  {
   "attachments": {},
   "cell_type": "markdown",
   "metadata": {},
   "source": [
    "## OCR Portal web scrapper Py script\n",
    "### 1st page web scrapper with normaliztion (not very efficient)"
   ]
  },
  {
   "cell_type": "code",
   "execution_count": null,
   "metadata": {},
   "outputs": [],
   "source": [
    "import requests\n",
    "from bs4 import BeautifulSoup\n",
    "import pandas as pd"
   ]
  },
  {
   "cell_type": "code",
   "execution_count": null,
   "metadata": {},
   "outputs": [],
   "source": [
    "# create URL object\n",
    "url = \"https://ocrportal.hhs.gov/ocr/breach/breach_report.jsf\"\n",
    "page = requests.get(url)"
   ]
  },
  {
   "cell_type": "code",
   "execution_count": null,
   "metadata": {},
   "outputs": [],
   "source": [
    "# parser-lxml = Change html to Python friendly format\n",
    "# Obtain page's information\n",
    "soup = BeautifulSoup(page.text, 'lxml')"
   ]
  },
  {
   "cell_type": "code",
   "execution_count": null,
   "metadata": {},
   "outputs": [],
   "source": [
    "# Obtain info from tag <thead> for getting headers (from ocr portal, link above)\n",
    "ocr_head = soup.find('thead')"
   ]
  },
  {
   "cell_type": "code",
   "execution_count": null,
   "metadata": {},
   "outputs": [],
   "source": [
    "# Obtain every title of columns with tag <th>\n",
    "headers = []\n",
    "for i in ocr_head.find_all('th'):\n",
    " title = i.text\n",
    " headers.append(title)\n",
    " headers"
   ]
  },
  {
   "cell_type": "code",
   "execution_count": null,
   "metadata": {},
   "outputs": [],
   "source": [
    "# Create a dataframe\n",
    "ocr_data = pd.DataFrame(columns = headers)"
   ]
  },
  {
   "cell_type": "code",
   "execution_count": null,
   "metadata": {},
   "outputs": [],
   "source": [
    "# Obtain info from tag <tbody> for getting body (from ocr portal, link above)\n",
    "ocr_body = soup.find('tbody',id=\"ocrForm:reportResultTable_data\")"
   ]
  },
  {
   "cell_type": "code",
   "execution_count": null,
   "metadata": {},
   "outputs": [],
   "source": [
    "# Create a for loop to fill mydata\n",
    "for j in ocr_body.find_all('tr'):\n",
    " row_data = j.find_all('td')\n",
    " row = [i.text for i in row_data]\n",
    " length = len(ocr_data)\n",
    " ocr_data.loc[length] = row"
   ]
  },
  {
   "cell_type": "code",
   "execution_count": null,
   "metadata": {},
   "outputs": [],
   "source": [
    "# delete expand all column\n",
    "ocr_data = ocr_data.drop('Expand All',axis=1)"
   ]
  },
  {
   "cell_type": "code",
   "execution_count": null,
   "metadata": {},
   "outputs": [],
   "source": [
    "# add index column to data\n",
    "index = [i for i in range(0,len(ocr_data))]\n",
    "ocr_data['Index'] = index"
   ]
  },
  {
   "cell_type": "code",
   "execution_count": null,
   "metadata": {},
   "outputs": [],
   "source": [
    "# bring index column to first position (rearrange columns)\n",
    "columns_list = ocr_data.columns.to_list()\n",
    "columns_list = columns_list[-1:] + columns_list[:-1] # last to first and then from there to last"
   ]
  },
  {
   "cell_type": "code",
   "execution_count": null,
   "metadata": {},
   "outputs": [],
   "source": [
    "# merge columns in to df\n",
    "# change column names (wihout spacing) for ease of writing sql queries\n",
    "ocr_data = ocr_data[columns_list]\n",
    "ocr_data.columns = ['ind','nameOfCoveredEntity','state','coveredEntityType','individualsAffected','breachSubmissionDate','typeOfBreach','locationOfBreachedInformation','businessAssociatePresent','webDescription']"
   ]
  },
  {
   "cell_type": "code",
   "execution_count": null,
   "metadata": {},
   "outputs": [],
   "source": [
    "ocr_data"
   ]
  },
  {
   "attachments": {},
   "cell_type": "markdown",
   "metadata": {},
   "source": [
    "### Create SQL connection"
   ]
  },
  {
   "attachments": {},
   "cell_type": "markdown",
   "metadata": {},
   "source": [
    "#### Create Table query - \n",
    "    create table ocr_data(\n",
    "\tind int primary key not null,\n",
    "    nameOfCoveredEntity varchar(225),\n",
    "    state varchar (225),\n",
    "    coveredEntityType varchar(225),\n",
    "    individualsAffected int,\n",
    "    breachSubmissionDate varchar(225),\n",
    "    typeOfBreach varchar(225),\n",
    "    locationOfBreachedInformation varchar (225),\n",
    "    businessAssociatePresent varchar(225),\n",
    "    webDescription varchar(225)\n",
    ");"
   ]
  },
  {
   "cell_type": "code",
   "execution_count": null,
   "metadata": {},
   "outputs": [],
   "source": [
    "import pymysql\n",
    "\n",
    "# Connect to the database\n",
    "connection = pymysql.connect(host='localhost',\n",
    "                         user='root',\n",
    "                         password='password',\n",
    "                         db='medcurity')\n",
    "\n",
    "# create cursor\n",
    "cursor=connection.cursor()\n",
    "\n",
    "data = ocr_data"
   ]
  },
  {
   "cell_type": "code",
   "execution_count": null,
   "metadata": {},
   "outputs": [],
   "source": [
    "# # function to insert df into sql tables\n",
    "# def sqlLoad(df):\n",
    "#     cols = \"`,`\".join([str(i) for i in df.columns.tolist()])\n",
    "#     for i,row in df.iterrows():\n",
    "#         sql = \"INSERT IGNORE INTO `table_name_in_sql` (`\" +cols + \"`) VALUES (\" + \"%s,\"*(len(row)-1) + \"%s)\"\n",
    "#         cursor.execute(sql, tuple(row))\n",
    "\n",
    "#     # the connection is not autocommitted by default, so we must commit to save our changes\n",
    "#     return connection.commit()\n"
   ]
  },
  {
   "cell_type": "code",
   "execution_count": 19,
   "metadata": {},
   "outputs": [
    {
     "name": "stdout",
     "output_type": "stream",
     "text": [
      "CALL add_breach_data('UHS of Delaware, Inc. ', 'PA', 'Business Associate', 40290, '03/29/2023', 'Hacking/IT Incident', 'Email', 'Yes', '');\n",
      "CALL add_breach_data('American Pain and Wellness, PLLC', 'TX', 'Healthcare Provider', 7457, '03/24/2023', 'Hacking/IT Incident', 'Network Server', 'No', '');\n",
      "CALL add_breach_data('NewBridge Services', 'NJ', 'Healthcare Provider', 1457, '03/24/2023', 'Hacking/IT Incident', 'Network Server', 'No', '');\n",
      "CALL add_breach_data('Atlantic General Hospital', 'MD', 'Healthcare Provider', 26591, '03/24/2023', 'Hacking/IT Incident', 'Network Server', 'No', '');\n",
      "CALL add_breach_data('Frideres Dental LLC', 'OR', 'Healthcare Provider', 1596, '03/24/2023', 'Hacking/IT Incident', 'Email', 'No', '');\n",
      "CALL add_breach_data('New Medical Healthcare', 'KS', 'Healthcare Provider', 1557, '03/22/2023', 'Unauthorized Access/Disclosure', 'Email', 'No', '');\n",
      "CALL add_breach_data('US Wellness Inc.', 'MD', 'Business Associate', 11459, '03/22/2023', 'Hacking/IT Incident', 'Network Server', 'Yes', '');\n",
      "CALL add_breach_data('Atlantic Dialysis Management Services', 'NY', 'Business Associate', 3851, '03/22/2023', 'Hacking/IT Incident', 'Network Server', 'Yes', '');\n",
      "CALL add_breach_data('Atlantic Dialysis Management Services', 'NY', 'Business Associate', 795, '03/22/2023', 'Hacking/IT Incident', 'Network Server', 'Yes', '');\n",
      "CALL add_breach_data('Atlantic Dialysis Management Services', 'NY', 'Business Associate', 922, '03/22/2023', 'Hacking/IT Incident', 'Network Server', 'Yes', '');\n",
      "CALL add_breach_data('Atlantic Dialysis Management Services', 'NY', 'Business Associate', 2204, '03/22/2023', 'Hacking/IT Incident', 'Network Server', 'Yes', '');\n",
      "CALL add_breach_data('Atlantic Dialysis Management Services', 'NY', 'Business Associate', 563, '03/22/2023', 'Hacking/IT Incident', 'Network Server', 'Yes', '');\n",
      "CALL add_breach_data('Atlantic Dialysis Management Services', 'NY', 'Business Associate', 970, '03/22/2023', 'Hacking/IT Incident', 'Network Server', 'Yes', '');\n",
      "CALL add_breach_data('Atlantic Dialysis Management Services', 'NY', 'Business Associate', 1126, '03/22/2023', 'Hacking/IT Incident', 'Network Server', 'Yes', '');\n",
      "CALL add_breach_data('Atlantic Dialysis Management Services', 'NY', 'Business Associate', 1119, '03/22/2023', 'Hacking/IT Incident', 'Network Server', 'Yes', '');\n",
      "CALL add_breach_data('Atlantic Dialysis Management Services', 'NY', 'Business Associate', 653, '03/22/2023', 'Hacking/IT Incident', 'Network Server', 'Yes', '');\n",
      "CALL add_breach_data('Atlantic Dialysis Management Services', 'NY', 'Business Associate', 745, '03/22/2023', 'Hacking/IT Incident', 'Network Server', 'Yes', '');\n",
      "CALL add_breach_data('Atlantic Dialysis Management Services', 'NY', 'Business Associate', 1345, '03/22/2023', 'Hacking/IT Incident', 'Network Server', 'Yes', '');\n",
      "CALL add_breach_data('Atlantic Dialysis Management Services', 'NY', 'Business Associate', 1052, '03/22/2023', 'Hacking/IT Incident', 'Network Server', 'Yes', '');\n",
      "CALL add_breach_data('Atlantic Dialysis Management Services', 'NY', 'Business Associate', 776, '03/21/2023', 'Hacking/IT Incident', 'Network Server', 'Yes', '');\n",
      "CALL add_breach_data('Atlantic Dialysis Management Services', 'NY', 'Business Associate', 3851, '03/21/2023', 'Hacking/IT Incident', 'Network Server', 'Yes', '');\n",
      "CALL add_breach_data('Yardley Dermatology Associates, PC', 'PA', 'Healthcare Provider', 523, '03/21/2023', 'Unauthorized Access/Disclosure', 'Email', 'No', '');\n",
      "CALL add_breach_data('McAllen Hospitals, LP d/b/a South Texas Health System', 'TX', 'Healthcare Provider', 500, '03/20/2023', 'Hacking/IT Incident', 'Email', 'No', '');\n",
      "CALL add_breach_data('NewYork-Presbyterian Hospital', 'NY', 'Healthcare Provider', 54396, '03/20/2023', 'Unauthorized Access/Disclosure', 'Network Server', 'No', '');\n",
      "CALL add_breach_data('Integrated Supports for Living, Inc.', 'OR', 'Healthcare Provider', 1161, '03/20/2023', 'Hacking/IT Incident', 'Network Server', 'No', '');\n",
      "CALL add_breach_data('Majestic Care Middletown Assisted Living LLC', 'IN', 'Healthcare Provider', 2636, '03/17/2023', 'Hacking/IT Incident', 'Network Server', 'No', '');\n",
      "CALL add_breach_data('OU Medicine, Inc. d/b/a OU Health', 'OK', 'Healthcare Provider', 3013, '03/17/2023', 'Theft', 'Laptop', 'No', '');\n",
      "CALL add_breach_data('Health Plan of San Mateo', 'CA', 'Health Plan', 11894, '03/17/2023', 'Hacking/IT Incident', 'Email', 'No', '');\n",
      "CALL add_breach_data('Associates in Dermatology', 'KY', 'Healthcare Provider', 8517, '03/17/2023', 'Hacking/IT Incident', 'Network Server', 'Yes', '');\n",
      "CALL add_breach_data('Community Health Systems Professional Services Corporations (CHSPSC), LLC', 'TN', 'Business Associate', 962884, '03/16/2023', 'Hacking/IT Incident', 'Network Server', 'Yes', '');\n",
      "CALL add_breach_data('UC San Diego Health ', 'CA', 'Healthcare Provider', 23000, '03/16/2023', 'Unauthorized Access/Disclosure', 'Other', 'Yes', '');\n",
      "CALL add_breach_data('AllCare Plus Pharmacy, Inc.', 'MA', 'Healthcare Provider', 757, '03/15/2023', 'Hacking/IT Incident', 'Email', 'No', '');\n",
      "CALL add_breach_data('Healthy Options dba Postal Prescription Services – Kroger ', 'OH', 'Healthcare Provider', 82466, '03/15/2023', 'Unauthorized Access/Disclosure', 'Network Server', 'No', '');\n",
      "CALL add_breach_data('Merritt Healthcare Advisors', 'CT', 'Business Associate', 53403, '03/15/2023', 'Hacking/IT Incident', 'Email', 'Yes', '');\n",
      "CALL add_breach_data('California Department of Health Care Services', 'CA', 'Health Plan', 6460, '03/14/2023', 'Unauthorized Access/Disclosure', 'Paper/Films', 'Yes', '');\n",
      "CALL add_breach_data('Top of the World Ranch Treatment Center', 'IL', 'Healthcare Provider', 1980, '03/14/2023', 'Hacking/IT Incident', 'Email', 'No', '');\n",
      "CALL add_breach_data('NorthStar Emergency Medical Services', 'AL', 'Healthcare Provider', 82450, '03/14/2023', 'Hacking/IT Incident', 'Network Server', 'No', '');\n",
      "CALL add_breach_data('Beach District Surgery Center', 'CA', 'Healthcare Provider', 3560, '03/13/2023', 'Hacking/IT Incident', 'Email', 'Yes', '');\n",
      "CALL add_breach_data('Bone & Joint Clinic, S.C.', 'WI', 'Healthcare Provider', 105094, '03/13/2023', 'Hacking/IT Incident', 'Network Server', 'No', '');\n",
      "CALL add_breach_data('Ryu Physical Therapy, P.C.', 'CA', 'Healthcare Provider', 500, '03/11/2023', 'Unauthorized Access/Disclosure', 'Electronic Medical Record', 'Yes', '');\n",
      "CALL add_breach_data('ZOLL Services LLC ', 'MA', 'Healthcare Provider', 997097, '03/10/2023', 'Hacking/IT Incident', 'Network Server', 'No', '');\n",
      "CALL add_breach_data('Florida Medical Clinic, LLC', 'FL', 'Healthcare Provider', 94132, '03/10/2023', 'Hacking/IT Incident', 'Network Server', 'No', '');\n",
      "CALL add_breach_data('Colquitt Complete Care, LLC', 'GA', 'Healthcare Provider', 1282, '03/10/2023', 'Hacking/IT Incident', 'Network Server', 'Yes', '');\n",
      "CALL add_breach_data('Department of Economic Security, Division of Developmental Disabilities', 'AZ', 'Healthcare Provider', 857, '03/10/2023', 'Unauthorized Access/Disclosure', 'Paper/Films', 'No', '');\n",
      "CALL add_breach_data('Beacon Health System', 'IN', 'Healthcare Provider', 3117, '03/10/2023', 'Unauthorized Access/Disclosure', 'Electronic Medical Record', 'No', '');\n",
      "CALL add_breach_data('Wichita Urology Group, PA (“WUG”) ', 'KS', 'Healthcare Provider', 1493, '03/08/2023', 'Hacking/IT Incident', 'Network Server', 'No', '');\n",
      "CALL add_breach_data('EPIC Management, LLC', 'CA', 'Health Plan', 1190, '03/08/2023', 'Hacking/IT Incident', 'Email', 'No', '');\n",
      "CALL add_breach_data('Community Health Centers of Greater Dayton', 'OH', 'Healthcare Provider', 516, '03/08/2023', 'Unauthorized Access/Disclosure', 'Email', 'No', '');\n",
      "CALL add_breach_data('The M K Morse Company', 'OH', 'Health Plan', 1378, '03/08/2023', 'Hacking/IT Incident', 'Network Server', 'No', '');\n",
      "CALL add_breach_data('SundaySky, Inc.', 'NY', 'Business Associate', 37095, '03/07/2023', 'Hacking/IT Incident', 'Network Server', 'Yes', '');\n",
      "CALL add_breach_data('Trinity Health', 'MI', 'Business Associate', 45350, '03/06/2023', 'Hacking/IT Incident', 'Email', 'Yes', '');\n",
      "CALL add_breach_data('The Chautauqua Center Inc.', 'NY', 'Healthcare Provider', 745, '03/06/2023', 'Unauthorized Access/Disclosure', 'Electronic Medical Record', 'Yes', '');\n",
      "CALL add_breach_data('Northeast Surgical Group, PC', 'MI', 'Healthcare Provider', 15298, '03/06/2023', 'Hacking/IT Incident', 'Network Server', 'No', '');\n",
      "CALL add_breach_data('West Virginia University Board of Governors', 'WV', 'Healthcare Provider', 2453, '03/03/2023', 'Unauthorized Access/Disclosure', 'Network Server', 'No', '');\n",
      "CALL add_breach_data('Denver Public Schools Medical Plans', 'CO', 'Health Plan', 35068, '03/03/2023', 'Hacking/IT Incident', 'Network Server', 'No', '');\n",
      "CALL add_breach_data('Codman Square Health Center', 'MA', 'Healthcare Provider', 10161, '03/01/2023', 'Hacking/IT Incident', 'Network Server', 'No', '');\n",
      "CALL add_breach_data('Cerebral, Inc', 'DE', 'Business Associate', 3179835, '03/01/2023', 'Unauthorized Access/Disclosure', 'Network Server', 'Yes', '');\n",
      "CALL add_breach_data('Texas Medical Liability Trust and its affiliates', 'TX', 'Business Associate', 600, '03/01/2023', 'Hacking/IT Incident', 'Network Server', 'Yes', '');\n",
      "CALL add_breach_data('Community Health Group ', 'CA', 'Health Plan', 824, '02/28/2023', 'Hacking/IT Incident', 'Network Server', 'Yes', '');\n",
      "CALL add_breach_data('Valera Health', 'NY', 'Healthcare Provider', 2317, '02/28/2023', 'Unauthorized Access/Disclosure', 'Email', 'No', '');\n",
      "CALL add_breach_data('Clarity Child Guidance Center', 'TX', 'Health Plan', 531, '02/28/2023', 'Unauthorized Access/Disclosure', 'Email', 'No', '');\n",
      "CALL add_breach_data('Sentara Healthcare', 'VA', 'Healthcare Provider', 741, '02/24/2023', 'Unauthorized Access/Disclosure', 'Network Server', 'Yes', '');\n",
      "CALL add_breach_data('Asante', 'OR', 'Healthcare Provider', 8834, '02/24/2023', 'Unauthorized Access/Disclosure', 'Electronic Medical Record', 'No', '');\n",
      "CALL add_breach_data('Aloha Nursing Rehab Centre', 'HI', 'Healthcare Provider', 20216, '02/24/2023', 'Hacking/IT Incident', 'Network Server', 'No', '');\n",
      "CALL add_breach_data('eMDs, Inc.', 'TX', 'Business Associate', 625, '02/24/2023', 'Hacking/IT Incident', 'Network Server', 'Yes', '');\n",
      "CALL add_breach_data('White Bird Clinic', 'OR', 'Healthcare Provider', 584, '02/23/2023', 'Unauthorized Access/Disclosure', 'Email', 'No', '');\n",
      "CALL add_breach_data('Lawrence General Hospital', 'MA', 'Healthcare Provider', 76571, '02/23/2023', 'Hacking/IT Incident', 'Network Server', 'Yes', '');\n",
      "CALL add_breach_data('Henrico Doctors Hospital', 'VA', 'Healthcare Provider', 990, '02/21/2023', 'Unauthorized Access/Disclosure', 'Email', 'No', '');\n",
      "CALL add_breach_data('Sharp Healthcare', 'CA', 'Healthcare Provider', 62777, '02/17/2023', 'Hacking/IT Incident', 'Network Server', 'No', '');\n",
      "CALL add_breach_data('Hutchinson Clinic, P.A. ', 'KS', 'Healthcare Provider', 100000, '02/17/2023', 'Hacking/IT Incident', 'Network Server', 'No', '');\n",
      "CALL add_breach_data('West Cecil Health Center', 'MD', 'Healthcare Provider', 1136, '02/17/2023', 'Unauthorized Access/Disclosure', 'Network Server', 'Yes', '');\n",
      "CALL add_breach_data('Jackson Lewis P.C. ', 'CA', 'Business Associate', 986, '02/17/2023', 'Theft', 'Other Portable Electronic Device', 'Yes', '');\n",
      "CALL add_breach_data('Troy Roeder DDS PC ', 'IL', 'Healthcare Provider', 500, '02/17/2023', 'Unauthorized Access/Disclosure', 'Desktop Computer', 'No', '');\n",
      "CALL add_breach_data('San Juan Regional Medical Center', 'NM', 'Healthcare Provider', 8500, '02/15/2023', 'Hacking/IT Incident', 'Network Server', 'Yes', '');\n",
      "CALL add_breach_data('Integrative Dentistry', 'WA', 'Healthcare Provider', 2281, '02/14/2023', 'Hacking/IT Incident', 'Network Server', 'No', '');\n",
      "CALL add_breach_data('Reventics, LLC', 'FL', 'Business Associate', 250918, '02/10/2023', 'Hacking/IT Incident', 'Network Server', 'Yes', '');\n",
      "CALL add_breach_data('CentraState Healthcare System, Inc.', 'NJ', 'Healthcare Provider', 617901, '02/10/2023', 'Hacking/IT Incident', 'Network Server', 'No', '');\n",
      "CALL add_breach_data('Intelligent Business Solutions ', 'NC', 'Business Associate', 11595, '02/10/2023', 'Hacking/IT Incident', 'Network Server', 'Yes', '');\n",
      "CALL add_breach_data('Compass Behavioral Health', 'KS', 'Healthcare Provider', 537, '02/10/2023', 'Hacking/IT Incident', 'Email', 'No', '');\n",
      "CALL add_breach_data('Highmark Inc', 'PA', 'Business Associate', 36600, '02/10/2023', 'Hacking/IT Incident', 'Email', 'Yes', '');\n",
      "CALL add_breach_data('Evergreen Treatment Services', 'WA', 'Healthcare Provider', 21325, '02/10/2023', 'Hacking/IT Incident', 'Network Server', 'No', '');\n",
      "CALL add_breach_data('Highmark Inc', 'PA', 'Health Plan', 239039, '02/10/2023', 'Hacking/IT Incident', 'Email', 'No', '');\n",
      "CALL add_breach_data('Wentworth Health Partners Garrison Women''s Health', 'NH', 'Healthcare Provider', 4158, '02/10/2023', 'Hacking/IT Incident', 'Electronic Medical Record', 'Yes', '');\n",
      "CALL add_breach_data('CVS Specialty', 'RI', 'Healthcare Provider', 740, '02/10/2023', 'Hacking/IT Incident', 'Electronic Medical Record, Network Server', 'No', '');\n",
      "CALL add_breach_data('Nelson Pharmacy Consulting Services PLC', 'IA', 'Healthcare Provider', 500, '02/10/2023', 'Hacking/IT Incident', 'Desktop Computer, Network Server', 'No', '');\n",
      "CALL add_breach_data('Cheyenne Radiology Group & MRI, P.C.', 'WY', 'Healthcare Provider', 500, '02/09/2023', 'Hacking/IT Incident', 'Network Server', 'No', '');\n",
      "CALL add_breach_data('Tattnall County, Georgia', 'GA', 'Healthcare Provider', 1337, '02/09/2023', 'Hacking/IT Incident', 'Network Server', 'No', '');\n",
      "CALL add_breach_data('Health Benefit Plan of Bridgewater-Raritan Regional School District', 'NJ', 'Health Plan', 3909, '02/09/2023', 'Hacking/IT Incident', 'Network Server', 'No', '');\n",
      "CALL add_breach_data('90 Degree Benefits, Inc.', 'WI', 'Business Associate', 175000, '02/08/2023', 'Hacking/IT Incident', 'Network Server', 'Yes', '');\n",
      "CALL add_breach_data('NR Pennsylvania Associates, LLC', 'PA', 'Healthcare Provider', 14335, '02/07/2023', 'Hacking/IT Incident', 'Network Server', 'No', '');\n",
      "CALL add_breach_data('NR Connecticut, LLC', 'CT', 'Healthcare Provider', 2160, '02/07/2023', 'Hacking/IT Incident', 'Network Server', 'No', '');\n",
      "CALL add_breach_data('Frank R. Laurri, M.D. and Associates, P.C.', 'NY', 'Healthcare Provider', 2673, '02/07/2023', 'Unauthorized Access/Disclosure', 'Electronic Medical Record', 'No', '');\n",
      "CALL add_breach_data('Teijin Automotive Technologies Welfare Plan', 'MI', 'Health Plan', 25464, '02/06/2023', 'Hacking/IT Incident', 'Network Server', 'No', '');\n",
      "CALL add_breach_data('Skin MD, PLLC', 'TN', 'Healthcare Provider', 7558, '02/06/2023', 'Improper Disposal', 'Paper/Films', 'No', '');\n",
      "CALL add_breach_data('Vitra Health, Inc.', 'MA', 'Healthcare Provider', 1618, '02/06/2023', 'Hacking/IT Incident', 'Email', 'No', '');\n",
      "CALL add_breach_data('Center for Autism and Related Disorders, LLC', 'TX', 'Healthcare Provider', 634, '02/04/2023', 'Unauthorized Access/Disclosure', 'Paper/Films', 'No', '');\n",
      "CALL add_breach_data('Rise Interactive Media & Analytics, LLC', 'IL', 'Business Associate', 54509, '02/03/2023', 'Hacking/IT Incident', 'Network Server', 'Yes', '');\n",
      "CALL add_breach_data('Cardiovascular Associates', 'AL', 'Healthcare Provider', 441640, '02/03/2023', 'Hacking/IT Incident', 'Network Server', 'No', '');\n",
      "CALL add_breach_data('Southeast Colorado Hospital District', 'CO', 'Healthcare Provider', 1435, '02/03/2023', 'Hacking/IT Incident', 'Email', 'No', '');\n",
      "CALL add_breach_data('Hospice of the Valley', 'AZ', 'Healthcare Provider', 3840, '02/03/2023', 'Hacking/IT Incident', 'Email', 'No', '');\n"
     ]
    }
   ],
   "source": [
    "# add rows/tuples into table (append procees no overwrite)\n",
    "# ocr_data.columns = ['ind','nameOfCoveredEntity','state','coveredEntityType','individualsAffected','breachSubmissionDate','typeOfBreach','locationOfBreachedInformation','businessAssociatePresent','webDescription']\n",
    "cols = \"`,`\".join([str(i) for i in data.columns.tolist()])\n",
    "for i,row in data.iterrows():\n",
    "    sql = \"CALL add_breach_data('{}', '{}', '{}', {}, '{}', '{}', '{}', '{}', '');\".format(row.nameOfCoveredEntity.replace(\"'\", \"''\"), row.state, row.coveredEntityType, int(row.individualsAffected), row.breachSubmissionDate, row.typeOfBreach, row.locationOfBreachedInformation, row.businessAssociatePresent)\n",
    "    print(sql)\n",
    "    cursor.execute(sql)\n",
    "\n",
    "    # the connection is not autocommitted by default, so we must commit to save our changes\n",
    "    connection.commit()"
   ]
  },
  {
   "attachments": {},
   "cell_type": "markdown",
   "metadata": {},
   "source": [
    "#### Resources\n",
    "        https://www.dataquest.io/blog/sql-insert-tutorial/\n",
    "        \n",
    "        https://machinelearningprojects.net/schedule-a-python-script-in-aws-glue-as-a-job/\n",
    "\n",
    "        https://medium.com/@orjadamucollari/data-pipeline-automation-with-mysql-python-and-aws-2b5cf34ffcf8"
   ]
  },
  {
   "cell_type": "code",
   "execution_count": null,
   "metadata": {},
   "outputs": [],
   "source": [
    "state_df = ocr_data[['state']]\n",
    "state_df = state_df.rename(columns={\"state\":\"name\"})\n",
    "state_df.insert(0,'id',range(1,1+len(state_df)))"
   ]
  },
  {
   "cell_type": "code",
   "execution_count": null,
   "metadata": {},
   "outputs": [],
   "source": [
    "# add rows/tuples into table state (append procees no overwrite)\n",
    "cols = \"`,`\".join([str(i) for i in state_df.columns.tolist()])\n",
    "for i,row in state_df.iterrows():\n",
    "    sql = \"INSERT IGNORE INTO `state` (`\" +cols + \"`) VALUES (\" + \"%s,\"*(len(row)-1) + \"%s)\"\n",
    "    cursor.execute(sql, tuple(row))\n",
    "\n",
    "    # the connection is not autocommitted by default, so we must commit to save our changes\n",
    "    connection.commit()"
   ]
  },
  {
   "cell_type": "code",
   "execution_count": null,
   "metadata": {},
   "outputs": [],
   "source": [
    "location_df = ocr_data[['locationOfBreachedInformation']]"
   ]
  },
  {
   "cell_type": "code",
   "execution_count": null,
   "metadata": {},
   "outputs": [],
   "source": [
    "location_df = location_df.rename(columns={\"locationOfBreachedInformation\":\"location\"})\n",
    "location_df.insert(0,'id',range(1,1+len(location_df)))"
   ]
  },
  {
   "cell_type": "code",
   "execution_count": null,
   "metadata": {},
   "outputs": [],
   "source": [
    "# add rows/tuples into table breach_location (append procees no overwrite)\n",
    "cols = \"`,`\".join([str(i) for i in location_df.columns.tolist()])\n",
    "for i,row in location_df.iterrows():\n",
    "    sql = \"INSERT IGNORE INTO `breach_location` (`\" +cols + \"`) VALUES (\" + \"%s,\"*(len(row)-1) + \"%s)\"\n",
    "    cursor.execute(sql, tuple(row))\n",
    "\n",
    "    # the connection is not autocommitted by default, so we must commit to save our changes\n",
    "    connection.commit()"
   ]
  },
  {
   "cell_type": "code",
   "execution_count": null,
   "metadata": {},
   "outputs": [],
   "source": [
    "breach_type_df = ocr_data[['typeOfBreach']]"
   ]
  },
  {
   "cell_type": "code",
   "execution_count": null,
   "metadata": {},
   "outputs": [],
   "source": [
    "breach_type_df = breach_type_df.rename(columns={\"typeOfBreach\":\"name\"})\n",
    "breach_type_df.insert(0,'id',range(1,1+len(breach_type_df)))"
   ]
  },
  {
   "cell_type": "code",
   "execution_count": null,
   "metadata": {},
   "outputs": [],
   "source": [
    "# add rows/tuples into table breach_location (append procees no overwrite)\n",
    "cols = \"`,`\".join([str(i) for i in breach_type_df.columns.tolist()])\n",
    "for i,row in breach_type_df.iterrows():\n",
    "    sql = \"INSERT IGNORE INTO `breach_type` (`\" +cols + \"`) VALUES (\" + \"%s,\"*(len(row)-1) + \"%s)\"\n",
    "    cursor.execute(sql, tuple(row))\n",
    "\n",
    "    # the connection is not autocommitted by default, so we must commit to save our changes\n",
    "    connection.commit()"
   ]
  },
  {
   "cell_type": "code",
   "execution_count": null,
   "metadata": {},
   "outputs": [],
   "source": [
    "business_entity_df = ocr_data[['nameOfCoveredEntity']]"
   ]
  },
  {
   "cell_type": "code",
   "execution_count": null,
   "metadata": {},
   "outputs": [],
   "source": [
    "business_entity_df = business_entity_df.rename(columns={\"nameOfCoveredEntity\":\"name\"})\n",
    "business_entity_df.insert(0,'id',range(1,1+len(business_entity_df)))"
   ]
  },
  {
   "cell_type": "code",
   "execution_count": null,
   "metadata": {},
   "outputs": [],
   "source": [
    "# add rows/tuples into table buisness_entity (append procees no overwrite)\n",
    "cols = \"`,`\".join([str(i) for i in business_entity_df.columns.tolist()])\n",
    "for i,row in business_entity_df.iterrows():\n",
    "    sql = \"INSERT IGNORE INTO `buisness_entity` (`\" +cols + \"`) VALUES (\" + \"%s,\"*(len(row)-1) + \"%s)\"\n",
    "    cursor.execute(sql, tuple(row))\n",
    "\n",
    "    # the connection is not autocommitted by default, so we must commit to save our changes\n",
    "    connection.commit()"
   ]
  },
  {
   "cell_type": "code",
   "execution_count": null,
   "metadata": {},
   "outputs": [],
   "source": [
    "covered_entity_type_df = ocr_data[['coveredEntityType']]"
   ]
  },
  {
   "cell_type": "code",
   "execution_count": null,
   "metadata": {},
   "outputs": [],
   "source": [
    "covered_entity_type_df = covered_entity_type_df.rename(columns={\"coveredEntityType\":\"type\"})\n",
    "covered_entity_type_df.insert(0,'id',range(1,1+len(covered_entity_type_df)))"
   ]
  },
  {
   "cell_type": "code",
   "execution_count": null,
   "metadata": {},
   "outputs": [],
   "source": [
    "# add rows/tuples into table covered_entity_type (append procees no overwrite)\n",
    "cols = \"`,`\".join([str(i) for i in covered_entity_type_df.columns.tolist()])\n",
    "for i,row in covered_entity_type_df.iterrows():\n",
    "    sql = \"INSERT IGNORE INTO `covered_entity_type` (`\" +cols + \"`) VALUES (\" + \"%s,\"*(len(row)-1) + \"%s)\"\n",
    "    cursor.execute(sql, tuple(row))\n",
    "\n",
    "    # the connection is not autocommitted by default, so we must commit to save our changes\n",
    "    connection.commit()"
   ]
  },
  {
   "cell_type": "code",
   "execution_count": null,
   "metadata": {},
   "outputs": [],
   "source": [
    "#individualsAffected, breachSubmissionDate,businessAssociatePresent, webDescription\n",
    "test_final = ocr_data[['breachSubmissionDate','businessAssociatePresent','individualsAffected','webDescription']]\n",
    "test_final.insert(0,'id',range(1,1+len(test_final)))"
   ]
  },
  {
   "cell_type": "code",
   "execution_count": null,
   "metadata": {},
   "outputs": [],
   "source": [
    "# add id columns into final df\n",
    "list_id_names = ['buisness_entity_id','state_id','entity_type_id','breach_type_id','location_of_breach_id']\n",
    "list_ids = [business_entity_df[['id']], state_df[['id']], covered_entity_type_df[['id']], breach_type_df[['id']], location_df[['id']]]\n",
    "for i in range(1,len(list_ids)+1):\n",
    "    test_final.insert(i,list_id_names[i-1],list_ids[i-1])"
   ]
  },
  {
   "cell_type": "code",
   "execution_count": null,
   "metadata": {},
   "outputs": [],
   "source": [
    "# rename some columns \n",
    "test_final.rename(columns = {'breachSubmissionDate':'breach_date', 'businessAssociatePresent':'business_associate_present',\n",
    "                             'individualsAffected':'individuals_affected','webDescription':'web_description'}, inplace = True)\n"
   ]
  },
  {
   "cell_type": "code",
   "execution_count": null,
   "metadata": {},
   "outputs": [],
   "source": [
    "# change data types to import successfully into sql\n",
    "test_final['breach_date'] = pd.to_datetime(test_final['breach_date'])\n",
    "test_final['business_associate_present'] = test_final.business_associate_present.map(dict(Yes=1, No=0))"
   ]
  },
  {
   "cell_type": "code",
   "execution_count": null,
   "metadata": {},
   "outputs": [],
   "source": [
    "test_final"
   ]
  },
  {
   "cell_type": "code",
   "execution_count": null,
   "metadata": {},
   "outputs": [],
   "source": [
    "# add rows/tuples into table state (append procees no overwrite)\n",
    "cols = \"`,`\".join([str(i) for i in test_final.columns.tolist()])\n",
    "for i,row in test_final.iterrows():\n",
    "    sql = \"INSERT INTO `breaches` (`\" +cols + \"`) VALUES (\" + \"%s,\"*(len(row)-1) + \"%s)\"\n",
    "    cursor.execute(sql, tuple(row))\n",
    "\n",
    "    # the connection is not autocommitted by default, so we must commit to save our changes\n",
    "    connection.commit()"
   ]
  }
 ],
 "metadata": {
  "kernelspec": {
   "display_name": "base",
   "language": "python",
   "name": "python3"
  },
  "language_info": {
   "codemirror_mode": {
    "name": "ipython",
    "version": 3
   },
   "file_extension": ".py",
   "mimetype": "text/x-python",
   "name": "python",
   "nbconvert_exporter": "python",
   "pygments_lexer": "ipython3",
   "version": "3.9.1"
  },
  "orig_nbformat": 4,
  "vscode": {
   "interpreter": {
    "hash": "80dff56a0fb34159d5bce7400b2a92d30a3bb9cd4ee1cfcd88d12ec996cd2114"
   }
  }
 },
 "nbformat": 4,
 "nbformat_minor": 2
}
